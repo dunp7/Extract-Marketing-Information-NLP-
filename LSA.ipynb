{
 "cells": [
  {
   "cell_type": "code",
   "execution_count": 1,
   "metadata": {},
   "outputs": [
    {
     "name": "stderr",
     "output_type": "stream",
     "text": [
      "[nltk_data] Downloading package punkt to\n",
      "[nltk_data]     C:\\Users\\ACER\\AppData\\Roaming\\nltk_data...\n",
      "[nltk_data]   Package punkt is already up-to-date!\n",
      "[nltk_data] Downloading package wordnet to\n",
      "[nltk_data]     C:\\Users\\ACER\\AppData\\Roaming\\nltk_data...\n",
      "[nltk_data]   Package wordnet is already up-to-date!\n"
     ]
    }
   ],
   "source": [
    "import pandas as pd\n",
    "import numpy as np\n",
    "\n",
    "import re\n",
    "import string\n",
    "\n",
    "import spacy\n",
    "\n",
    "import gensim\n",
    "from gensim import corpora\n",
    "\n",
    "# libraries for visualization\n",
    "import pyLDAvis\n",
    "import pyLDAvis.gensim\n",
    "import matplotlib.pyplot as plt\n",
    "import seaborn as sns\n",
    "%matplotlib inline\n",
    "import warnings\n",
    "warnings.filterwarnings(\"ignore\")\n",
    "from Method import *"
   ]
  },
  {
   "cell_type": "code",
   "execution_count": 2,
   "metadata": {},
   "outputs": [
    {
     "data": {
      "text/html": [
       "<div>\n",
       "<style scoped>\n",
       "    .dataframe tbody tr th:only-of-type {\n",
       "        vertical-align: middle;\n",
       "    }\n",
       "\n",
       "    .dataframe tbody tr th {\n",
       "        vertical-align: top;\n",
       "    }\n",
       "\n",
       "    .dataframe thead th {\n",
       "        text-align: right;\n",
       "    }\n",
       "</style>\n",
       "<table border=\"1\" class=\"dataframe\">\n",
       "  <thead>\n",
       "    <tr style=\"text-align: right;\">\n",
       "      <th></th>\n",
       "      <th>Id</th>\n",
       "      <th>ProductId</th>\n",
       "      <th>UserId</th>\n",
       "      <th>ProfileName</th>\n",
       "      <th>HelpfulnessNumerator</th>\n",
       "      <th>HelpfulnessDenominator</th>\n",
       "      <th>Score</th>\n",
       "      <th>Time</th>\n",
       "      <th>Summary</th>\n",
       "      <th>Text</th>\n",
       "    </tr>\n",
       "  </thead>\n",
       "  <tbody>\n",
       "    <tr>\n",
       "      <th>0</th>\n",
       "      <td>1</td>\n",
       "      <td>B001E4KFG0</td>\n",
       "      <td>A3SGXH7AUHU8GW</td>\n",
       "      <td>delmartian</td>\n",
       "      <td>1</td>\n",
       "      <td>1</td>\n",
       "      <td>5</td>\n",
       "      <td>1303862400</td>\n",
       "      <td>Good Quality Dog Food</td>\n",
       "      <td>I have bought several of the Vitality canned d...</td>\n",
       "    </tr>\n",
       "    <tr>\n",
       "      <th>1</th>\n",
       "      <td>2</td>\n",
       "      <td>B00813GRG4</td>\n",
       "      <td>A1D87F6ZCVE5NK</td>\n",
       "      <td>dll pa</td>\n",
       "      <td>0</td>\n",
       "      <td>0</td>\n",
       "      <td>1</td>\n",
       "      <td>1346976000</td>\n",
       "      <td>Not as Advertised</td>\n",
       "      <td>Product arrived labeled as Jumbo Salted Peanut...</td>\n",
       "    </tr>\n",
       "  </tbody>\n",
       "</table>\n",
       "</div>"
      ],
      "text/plain": [
       "   Id   ProductId          UserId ProfileName  HelpfulnessNumerator  \\\n",
       "0   1  B001E4KFG0  A3SGXH7AUHU8GW  delmartian                     1   \n",
       "1   2  B00813GRG4  A1D87F6ZCVE5NK      dll pa                     0   \n",
       "\n",
       "   HelpfulnessDenominator  Score        Time                Summary  \\\n",
       "0                       1      5  1303862400  Good Quality Dog Food   \n",
       "1                       0      1  1346976000      Not as Advertised   \n",
       "\n",
       "                                                Text  \n",
       "0  I have bought several of the Vitality canned d...  \n",
       "1  Product arrived labeled as Jumbo Salted Peanut...  "
      ]
     },
     "execution_count": 2,
     "metadata": {},
     "output_type": "execute_result"
    }
   ],
   "source": [
    "data= pd.read_csv(\"D:\\Study\\DSEB 63 - NEU\\Year 3\\Sem 2\\Thesis\\Reviews.csv\")\n",
    "data.head(2)"
   ]
  },
  {
   "cell_type": "code",
   "execution_count": 3,
   "metadata": {},
   "outputs": [
    {
     "data": {
      "text/plain": [
       "0        [love, anna, ginger, thin, cooky, hoping, find...\n",
       "1        [dont, chocolate, bell, plantation, site, four...\n",
       "2        [first, coffee, tried, keurig, disappointed, f...\n",
       "3        [item, shipped, unsealed, plastic, within, bro...\n",
       "4        [cat, picky, eater, sometime, found, weruvia, ...\n",
       "                               ...                        \n",
       "49995    [mother, love, product, heard, great, thing, a...\n",
       "49996    [compared, favorite, breakfast, kashi, honey, ...\n",
       "49997    [love, good, coffee, bought, keurig, lavazza, ...\n",
       "49998    [bought, month, buying, popcorn, flavorful, de...\n",
       "49999    [popchips, original, potato, chip, deelish, be...\n",
       "Name: Text, Length: 50000, dtype: object"
      ]
     },
     "execution_count": 3,
     "metadata": {},
     "output_type": "execute_result"
    }
   ],
   "source": [
    "# Clean text\n",
    "df_sampled = preprocess_data(data)\n",
    "df = df_sampled[['Text']]\n",
    "tokenized_reviews = df['Text'].apply(preprocess_text)\n",
    "tokenized_reviews"
   ]
  },
  {
   "cell_type": "code",
   "execution_count": 4,
   "metadata": {},
   "outputs": [],
   "source": [
    "dictionary = corpora.Dictionary(tokenized_reviews)\n",
    "doc_term_matrix = [dictionary.doc2bow(rev) for rev in tokenized_reviews]"
   ]
  },
  {
   "cell_type": "code",
   "execution_count": 5,
   "metadata": {},
   "outputs": [],
   "source": [
    "# Creating the object for LsA model using gensim library\n",
    "LSA = gensim.models.LsiModel\n",
    "# Build LsA model\n",
    "lsa_model = LSA(corpus=doc_term_matrix, id2word=dictionary, num_topics=10,chunksize=1000)"
   ]
  },
  {
   "cell_type": "code",
   "execution_count": 6,
   "metadata": {},
   "outputs": [
    {
     "data": {
      "text/plain": [
       "[(0,\n",
       "  '0.357*\"like\" + 0.283*\"taste\" + 0.243*\"coffee\" + 0.222*\"water\" + 0.218*\"product\" + 0.217*\"food\" + 0.200*\"flavor\" + 0.189*\"good\" + 0.183*\"would\" + 0.128*\"really\"'),\n",
       " (1,\n",
       "  '-0.668*\"water\" + 0.558*\"coffee\" + -0.144*\"food\" + -0.125*\"bottled\" + 0.115*\"flavor\" + -0.109*\"essentia\" + 0.098*\"like\" + -0.085*\"drinking\" + -0.084*\"electrolyte\" + -0.080*\"alkaline\"'),\n",
       " (2,\n",
       "  '-0.547*\"coffee\" + -0.476*\"water\" + 0.460*\"food\" + 0.110*\"product\" + -0.108*\"taste\" + 0.099*\"cat\" + 0.096*\"ingredient\" + 0.093*\"would\" + -0.087*\"bottled\" + -0.084*\"drink\"'),\n",
       " (3,\n",
       "  '-0.543*\"food\" + -0.492*\"coffee\" + 0.340*\"taste\" + 0.322*\"like\" + 0.208*\"flavor\" + -0.119*\"water\" + -0.106*\"cat\" + 0.102*\"chocolate\" + 0.073*\"sugar\" + -0.063*\"diet\"'),\n",
       " (4,\n",
       "  '-0.756*\"product\" + 0.340*\"like\" + 0.274*\"food\" + 0.212*\"taste\" + 0.154*\"flavor\" + -0.148*\"amazon\" + -0.075*\"price\" + -0.067*\"would\" + 0.062*\"eating\" + -0.060*\"hair\"'),\n",
       " (5,\n",
       "  '0.527*\"flavor\" + -0.458*\"like\" + -0.290*\"taste\" + -0.272*\"product\" + -0.222*\"food\" + 0.156*\"would\" + 0.145*\"good\" + 0.110*\"little\" + 0.094*\"chip\" + 0.094*\"eating\"'),\n",
       " (6,\n",
       "  '0.498*\"flavor\" + 0.250*\"food\" + -0.217*\"eating\" + -0.184*\"would\" + -0.168*\"thing\" + -0.145*\"whatever\" + -0.129*\"three\" + -0.127*\"little\" + 0.126*\"chicken\" + -0.122*\"around\"'),\n",
       " (7,\n",
       "  '-0.497*\"taste\" + 0.396*\"like\" + 0.293*\"treat\" + -0.185*\"sugar\" + 0.164*\"dog\" + -0.161*\"diet\" + -0.160*\"product\" + 0.146*\"would\" + -0.133*\"ingredient\" + 0.125*\"basket\"'),\n",
       " (8,\n",
       "  '0.456*\"flavor\" + -0.386*\"good\" + 0.360*\"product\" + 0.246*\"like\" + -0.187*\"chocolate\" + -0.162*\"organic\" + -0.128*\"taste\" + 0.114*\"chicken\" + -0.094*\"baby\" + 0.092*\"science\"'),\n",
       " (9,\n",
       "  '-0.536*\"basket\" + -0.476*\"gift\" + -0.292*\"chocolate\" + -0.154*\"inside\" + -0.129*\"sugar\" + -0.128*\"would\" + -0.107*\"received\" + -0.098*\"item\" + -0.095*\"company\" + -0.090*\"next\"')]"
      ]
     },
     "execution_count": 6,
     "metadata": {},
     "output_type": "execute_result"
    }
   ],
   "source": [
    "lsa_model.print_topics()"
   ]
  },
  {
   "cell_type": "code",
   "execution_count": 7,
   "metadata": {},
   "outputs": [
    {
     "name": "stdout",
     "output_type": "stream",
     "text": [
      "\n",
      "Coherence Score:  0.4506999707623452\n"
     ]
    }
   ],
   "source": [
    "# print('\\nPerplexity: ', lsa_model.log_perplexity(doc_term_matrix,total_docs=10000))  # a measure of how good the model is. the lower the better.\n",
    "\n",
    "# Compute Coherence Score\n",
    "from gensim.models.coherencemodel import CoherenceModel\n",
    "coherence_model_lsa = CoherenceModel(model=lsa_model, texts=tokenized_reviews, dictionary=dictionary , coherence='c_v')\n",
    "coherence_lsa = coherence_model_lsa.get_coherence()\n",
    "print('\\nCoherence Score: ', coherence_lsa)"
   ]
  },
  {
   "cell_type": "markdown",
   "metadata": {},
   "source": [
    "***\n",
    "Method to find optimal number of topics\n",
    "***"
   ]
  },
  {
   "cell_type": "code",
   "execution_count": 8,
   "metadata": {},
   "outputs": [],
   "source": [
    "def compute_coherence_values(dictionary, corpus, texts, end, start=2, step=3):\n",
    "    \"\"\"\n",
    "    Compute c_v coherence for various number of topics\n",
    "\n",
    "    Parameters:\n",
    "    ----------\n",
    "    dictionary : Gensim dictionary\n",
    "    corpus : Gensim corpus\n",
    "    texts : List of input texts\n",
    "    limit : Max num of topics\n",
    "\n",
    "    Returns:\n",
    "    -------\n",
    "    model_list : List of LDA topic models\n",
    "    coherence_values : Coherence values corresponding to the LDA model with respective number of topics\n",
    "    \"\"\"\n",
    "    coherence_values = []\n",
    "    model_list = []\n",
    "    for num_topics in range(start, end, step):\n",
    "        model = gensim.models.ldamodel.LdaModel(corpus=corpus, num_topics=num_topics, id2word=dictionary)\n",
    "        model_list.append(model)\n",
    "        coherencemodel = CoherenceModel(model=model, texts=texts, dictionary=dictionary, coherence='c_v')\n",
    "        coherence_values.append(coherencemodel.get_coherence())\n",
    "\n",
    "    return model_list, coherence_values"
   ]
  },
  {
   "cell_type": "code",
   "execution_count": 9,
   "metadata": {},
   "outputs": [],
   "source": [
    "model_list, coherence_values = compute_coherence_values(dictionary=dictionary, corpus=doc_term_matrix, texts=tokenized_reviews, start=2, end=50, step=1)"
   ]
  },
  {
   "cell_type": "code",
   "execution_count": 10,
   "metadata": {},
   "outputs": [
    {
     "data": {
      "image/png": "[encoded data removed]",
      "text/plain": [
       "<Figure size 640x480 with 1 Axes>"
      ]
     },
     "metadata": {},
     "output_type": "display_data"
    }
   ],
   "source": [
    "# Show graph\n",
    "end=50; start=2; step=1\n",
    "x = range(start, end, step)\n",
    "plt.plot(x, coherence_values)\n",
    "plt.xlabel(\"Num Topics\")\n",
    "plt.ylabel(\"Coherence score\")\n",
    "plt.legend((\"coherence_values\"), loc='best')\n",
    "plt.show()# Print the coherence scores"
   ]
  },
  {
   "cell_type": "code",
   "execution_count": 11,
   "metadata": {},
   "outputs": [
    {
     "name": "stdout",
     "output_type": "stream",
     "text": [
      "Num Topics = 2  has Coherence Value of 0.3419\n",
      "Num Topics = 3  has Coherence Value of 0.3548\n",
      "Num Topics = 4  has Coherence Value of 0.3955\n",
      "Num Topics = 5  has Coherence Value of 0.4242\n",
      "Num Topics = 6  has Coherence Value of 0.4083\n",
      "Num Topics = 7  has Coherence Value of 0.4237\n",
      "Num Topics = 8  has Coherence Value of 0.4158\n",
      "Num Topics = 9  has Coherence Value of 0.4391\n",
      "Num Topics = 10  has Coherence Value of 0.3936\n",
      "Num Topics = 11  has Coherence Value of 0.4214\n",
      "Num Topics = 12  has Coherence Value of 0.4267\n",
      "Num Topics = 13  has Coherence Value of 0.429\n",
      "Num Topics = 14  has Coherence Value of 0.4349\n",
      "Num Topics = 15  has Coherence Value of 0.428\n",
      "Num Topics = 16  has Coherence Value of 0.4277\n",
      "Num Topics = 17  has Coherence Value of 0.4325\n",
      "Num Topics = 18  has Coherence Value of 0.4107\n",
      "Num Topics = 19  has Coherence Value of 0.419\n",
      "Num Topics = 20  has Coherence Value of 0.4338\n",
      "Num Topics = 21  has Coherence Value of 0.4125\n",
      "Num Topics = 22  has Coherence Value of 0.3921\n",
      "Num Topics = 23  has Coherence Value of 0.4282\n",
      "Num Topics = 24  has Coherence Value of 0.399\n",
      "Num Topics = 25  has Coherence Value of 0.3872\n",
      "Num Topics = 26  has Coherence Value of 0.3952\n",
      "Num Topics = 27  has Coherence Value of 0.4222\n",
      "Num Topics = 28  has Coherence Value of 0.4101\n",
      "Num Topics = 29  has Coherence Value of 0.394\n",
      "Num Topics = 30  has Coherence Value of 0.4031\n",
      "Num Topics = 31  has Coherence Value of 0.399\n",
      "Num Topics = 32  has Coherence Value of 0.3834\n",
      "Num Topics = 33  has Coherence Value of 0.3924\n",
      "Num Topics = 34  has Coherence Value of 0.4046\n",
      "Num Topics = 35  has Coherence Value of 0.4023\n",
      "Num Topics = 36  has Coherence Value of 0.4107\n",
      "Num Topics = 37  has Coherence Value of 0.4059\n",
      "Num Topics = 38  has Coherence Value of 0.3992\n",
      "Num Topics = 39  has Coherence Value of 0.38\n",
      "Num Topics = 40  has Coherence Value of 0.3767\n",
      "Num Topics = 41  has Coherence Value of 0.3906\n",
      "Num Topics = 42  has Coherence Value of 0.3868\n",
      "Num Topics = 43  has Coherence Value of 0.3737\n",
      "Num Topics = 44  has Coherence Value of 0.3897\n",
      "Num Topics = 45  has Coherence Value of 0.376\n",
      "Num Topics = 46  has Coherence Value of 0.3806\n",
      "Num Topics = 47  has Coherence Value of 0.3816\n",
      "Num Topics = 48  has Coherence Value of 0.3634\n",
      "Num Topics = 49  has Coherence Value of 0.3772\n"
     ]
    }
   ],
   "source": [
    "# Print the coherence scores\n",
    "for m, cv in zip(x, coherence_values):\n",
    "    print(\"Num Topics =\", m, \" has Coherence Value of\", round(cv, 4))"
   ]
  },
  {
   "cell_type": "code",
   "execution_count": 12,
   "metadata": {},
   "outputs": [
    {
     "data": {
      "text/plain": [
       "[(0,\n",
       "  '0.044*\"coffee\" + 0.025*\"flavor\" + 0.021*\"like\" + 0.019*\"taste\" + 0.014*\"good\" + 0.008*\"great\" + 0.008*\"love\" + 0.008*\"strong\" + 0.007*\"green\" + 0.007*\"make\"'),\n",
       " (1,\n",
       "  '0.078*\"treat\" + 0.021*\"dog\" + 0.020*\"love\" + 0.016*\"salt\" + 0.015*\"baby\" + 0.009*\"pouch\" + 0.008*\"moist\" + 0.007*\"size\" + 0.007*\"made\" + 0.007*\"small\"'),\n",
       " (2,\n",
       "  '0.028*\"chip\" + 0.023*\"chocolate\" + 0.020*\"calorie\" + 0.017*\"taste\" + 0.016*\"cooky\" + 0.012*\"like\" + 0.012*\"good\" + 0.011*\"great\" + 0.010*\"sweet\" + 0.010*\"sugar\"'),\n",
       " (3,\n",
       "  '0.026*\"amazon\" + 0.022*\"price\" + 0.020*\"product\" + 0.019*\"store\" + 0.016*\"great\" + 0.012*\"order\" + 0.011*\"good\" + 0.011*\"find\" + 0.010*\"love\" + 0.010*\"time\"'),\n",
       " (4,\n",
       "  '0.020*\"product\" + 0.018*\"ingredient\" + 0.015*\"sugar\" + 0.015*\"organic\" + 0.014*\"butter\" + 0.013*\"peanut\" + 0.013*\"cereal\" + 0.012*\"free\" + 0.011*\"gluten\" + 0.011*\"rice\"'),\n",
       " (5,\n",
       "  '0.021*\"like\" + 0.014*\"good\" + 0.012*\"great\" + 0.012*\"taste\" + 0.010*\"love\" + 0.009*\"make\" + 0.009*\"really\" + 0.008*\"flavor\" + 0.008*\"little\" + 0.008*\"would\"'),\n",
       " (6,\n",
       "  '0.041*\"water\" + 0.031*\"drink\" + 0.025*\"taste\" + 0.020*\"flavor\" + 0.017*\"bottle\" + 0.017*\"like\" + 0.016*\"coconut\" + 0.012*\"fruit\" + 0.009*\"ginger\" + 0.009*\"sweet\"'),\n",
       " (7,\n",
       "  '0.017*\"popcorn\" + 0.013*\"year\" + 0.013*\"product\" + 0.011*\"can\" + 0.009*\"time\" + 0.008*\"week\" + 0.007*\"work\" + 0.007*\"month\" + 0.007*\"day\" + 0.006*\"back\"'),\n",
       " (8,\n",
       "  '0.071*\"food\" + 0.017*\"cat\" + 0.014*\"dog\" + 0.013*\"love\" + 0.010*\"chicken\" + 0.009*\"like\" + 0.008*\"year\" + 0.006*\"ingredient\" + 0.006*\"feed\" + 0.006*\"brand\"')]"
      ]
     },
     "execution_count": 12,
     "metadata": {},
     "output_type": "execute_result"
    }
   ],
   "source": [
    "# Select the model and print the topics\n",
    "optimal_model = model_list[7]\n",
    "model_topics = optimal_model.show_topics(formatted=False)\n",
    "optimal_model.print_topics(num_words=10)"
   ]
  },
  {
   "cell_type": "code",
   "execution_count": 13,
   "metadata": {},
   "outputs": [
    {
     "name": "stdout",
     "output_type": "stream",
     "text": [
      "----------------------------------------------\n",
      "Topic names based on word with highest weight:\n",
      "Topic 0: coffee\n",
      "Topic 1: treat\n",
      "Topic 2: chip\n",
      "Topic 3: amazon\n",
      "Topic 4: product\n",
      "Topic 5: like\n",
      "Topic 6: water\n",
      "Topic 7: popcorn\n",
      "Topic 8: food\n"
     ]
    }
   ],
   "source": [
    "# Naming each topic by the word with height weight. \n",
    "topic_names = []\n",
    "for topic_id, topic_data in model_topics:\n",
    "    max_word, max_weight = max(topic_data, key=lambda x: x[1])\n",
    "    topic_names.append((topic_id, max_word))\n",
    "print('----------------------------------------------')\n",
    "print(\"Topic names based on word with highest weight:\")\n",
    "for topic_id, topic_name in topic_names:\n",
    "    print(\"Topic {}: {}\".format(topic_id, topic_name))"
   ]
  }
 ],
 "metadata": {
  "kernelspec": {
   "display_name": "Python 3",
   "language": "python",
   "name": "python3"
  },
  "language_info": {
   "codemirror_mode": {
    "name": "ipython",
    "version": 3
   },
   "file_extension": ".py",
   "mimetype": "text/x-python",
   "name": "python",
   "nbconvert_exporter": "python",
   "pygments_lexer": "ipython3",
   "version": "3.11.7"
  }
 },
 "nbformat": 4,
 "nbformat_minor": 4
}
